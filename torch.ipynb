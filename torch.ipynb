{
 "cells": [
  {
   "cell_type": "code",
   "execution_count": 1,
   "metadata": {},
   "outputs": [],
   "source": [
    "import torch\n",
    "from torch import nn\n",
    "from torch.utils.data import DataLoader\n",
    "from torchvision import datasets\n",
    "from torchvision.transforms import ToTensor\n",
    " "
   ]
  },
  {
   "cell_type": "code",
   "execution_count": 2,
   "metadata": {},
   "outputs": [],
   "source": [
    "training_data = datasets.FashionMNIST(\n",
    "    root=\"data\",\n",
    "    train=True,\n",
    "    download=True,\n",
    "    transform=ToTensor(),\n",
    ")\n",
    "\n",
    "# Download test data from open datasets.\n",
    "test_data = datasets.FashionMNIST(\n",
    "    root=\"data\",\n",
    "    train=False,\n",
    "    download=True,\n",
    "    transform=ToTensor(),\n",
    ")"
   ]
  },
  {
   "cell_type": "code",
   "execution_count": 17,
   "metadata": {},
   "outputs": [
    {
     "name": "stdout",
     "output_type": "stream",
     "text": [
      "Shape of X [N, C, H, W]: torch.Size([64, 1, 28, 28])\n",
      "Shape of y: torch.Size([64]) torch.int64\n"
     ]
    }
   ],
   "source": [
    "batch_size = 64\n",
    "\n",
    "# Create data loaders.\n",
    "train_dataloader = DataLoader(training_data, batch_size=batch_size)\n",
    "test_dataloader = DataLoader(test_data, batch_size=batch_size)\n",
    "\n",
    "for X, y in test_dataloader:\n",
    "    print(f\"Shape of X [N, C, H, W]: {X.shape}\")\n",
    "    print(f\"Shape of y: {y.shape} {y.dtype}\")\n",
    "    break\n",
    "\n",
    "\n",
    "\n"
   ]
  },
  {
   "cell_type": "code",
   "execution_count": 7,
   "metadata": {},
   "outputs": [
    {
     "name": "stdout",
     "output_type": "stream",
     "text": [
      "Using cpu device\n",
      "NeuralNetwork(\n",
      "  (flatten): Flatten(start_dim=1, end_dim=-1)\n",
      "  (linear_relu_stack): Sequential(\n",
      "    (0): Linear(in_features=784, out_features=512, bias=True)\n",
      "    (1): ReLU()\n",
      "    (2): Linear(in_features=512, out_features=512, bias=True)\n",
      "    (3): ReLU()\n",
      "    (4): Linear(in_features=512, out_features=10, bias=True)\n",
      "  )\n",
      ")\n"
     ]
    }
   ],
   "source": [
    "device = \"cuda\" if torch.cuda.is_available() else \"cpu\"\n",
    "print(f\"Using {device} device\")\n",
    "\n",
    "# Define model\n",
    "class NeuralNetwork(nn.Module):\n",
    "    def __init__(self):\n",
    "        super().__init__()\n",
    "        self.flatten = nn.Flatten()\n",
    "        self.linear_relu_stack = nn.Sequential(\n",
    "            nn.Linear(28*28, 512),\n",
    "            nn.ReLU(),\n",
    "            nn.Linear(512, 512),\n",
    "            nn.ReLU(),\n",
    "            nn.Linear(512, 10)\n",
    "        )\n",
    "\n",
    "    def forward(self, x):\n",
    "        x = self.flatten(x)\n",
    "        logits = self.linear_relu_stack(x)\n",
    "        return logits\n",
    "\n",
    "model = NeuralNetwork().to(device)\n",
    "print(model)"
   ]
  },
  {
   "cell_type": "code",
   "execution_count": 8,
   "metadata": {},
   "outputs": [],
   "source": [
    "loss_fn = nn.CrossEntropyLoss()\n",
    "optimizer = torch.optim.SGD(model.parameters(), lr=1e-3)\n"
   ]
  },
  {
   "cell_type": "code",
   "execution_count": 10,
   "metadata": {},
   "outputs": [],
   "source": [
    "def train(dataloader, model, loss_fn, optimizer):\n",
    "    size = len(dataloader.dataset)\n",
    "    model.train()\n",
    "    for batch, (X, y) in enumerate(dataloader):\n",
    "        X, y = X.to(device), y.to(device)\n",
    "\n",
    "        # Compute prediction error\n",
    "        pred = model(X)\n",
    "        loss = loss_fn(pred, y)\n",
    "\n",
    "        # Backpropagation\n",
    "        optimizer.zero_grad()\n",
    "        loss.backward()\n",
    "        optimizer.step()\n",
    "\n",
    "        if batch % 100 == 0:\n",
    "            loss, current = loss.item(), batch * len(X)\n",
    "            print(f\"loss: {loss:>7f}  [{current:>5d}/{size:>5d}]\")\n",
    "def test(dataloader, model, loss_fn):\n",
    "    size = len(dataloader.dataset)\n",
    "    num_batches = len(dataloader)\n",
    "    model.eval()\n",
    "    test_loss, correct = 0, 0\n",
    "    with torch.no_grad():\n",
    "        for X, y in dataloader:\n",
    "            X, y = X.to(device), y.to(device)\n",
    "            pred = model(X)\n",
    "            test_loss += loss_fn(pred, y).item()\n",
    "            correct += (pred.argmax(1) == y).type(torch.float).sum().item()\n",
    "    test_loss /= num_batches\n",
    "    correct /= size\n",
    "    print(f\"Test Error: \\n Accuracy: {(100*correct):>0.1f}%, Avg loss: {test_loss:>8f} \\n\")\n"
   ]
  },
  {
   "cell_type": "code",
   "execution_count": 20,
   "metadata": {},
   "outputs": [
    {
     "name": "stdout",
     "output_type": "stream",
     "text": [
      "Epoch 1\n",
      "-------------------------------\n",
      "loss: 1.170089  [    0/60000]\n",
      "loss: 1.186221  [ 6400/60000]\n",
      "loss: 1.024515  [12800/60000]\n",
      "loss: 1.162460  [19200/60000]\n",
      "loss: 1.054054  [25600/60000]\n",
      "loss: 1.082970  [32000/60000]\n",
      "loss: 1.144745  [38400/60000]\n",
      "loss: 1.090044  [44800/60000]\n",
      "loss: 1.140826  [51200/60000]\n",
      "loss: 1.087700  [57600/60000]\n",
      "Epoch 2\n",
      "-------------------------------\n",
      "loss: 1.170089  [    0/60000]\n",
      "loss: 1.186221  [ 6400/60000]\n",
      "loss: 1.024515  [12800/60000]\n",
      "loss: 1.162460  [19200/60000]\n",
      "loss: 1.054054  [25600/60000]\n",
      "loss: 1.082970  [32000/60000]\n",
      "loss: 1.144745  [38400/60000]\n",
      "loss: 1.090044  [44800/60000]\n",
      "loss: 1.140826  [51200/60000]\n",
      "loss: 1.087700  [57600/60000]\n",
      "Epoch 3\n",
      "-------------------------------\n",
      "loss: 1.170089  [    0/60000]\n",
      "loss: 1.186221  [ 6400/60000]\n",
      "loss: 1.024515  [12800/60000]\n",
      "loss: 1.162460  [19200/60000]\n",
      "loss: 1.054054  [25600/60000]\n",
      "loss: 1.082970  [32000/60000]\n",
      "loss: 1.144745  [38400/60000]\n",
      "loss: 1.090044  [44800/60000]\n",
      "loss: 1.140826  [51200/60000]\n",
      "loss: 1.087700  [57600/60000]\n",
      "Epoch 4\n",
      "-------------------------------\n",
      "loss: 1.170089  [    0/60000]\n",
      "loss: 1.186221  [ 6400/60000]\n",
      "loss: 1.024515  [12800/60000]\n",
      "loss: 1.162460  [19200/60000]\n",
      "loss: 1.054054  [25600/60000]\n",
      "loss: 1.082970  [32000/60000]\n",
      "loss: 1.144745  [38400/60000]\n",
      "loss: 1.090044  [44800/60000]\n",
      "loss: 1.140826  [51200/60000]\n",
      "loss: 1.087700  [57600/60000]\n",
      "Epoch 5\n",
      "-------------------------------\n",
      "loss: 1.170089  [    0/60000]\n",
      "loss: 1.186221  [ 6400/60000]\n",
      "loss: 1.024515  [12800/60000]\n",
      "loss: 1.162460  [19200/60000]\n",
      "loss: 1.054054  [25600/60000]\n",
      "loss: 1.082970  [32000/60000]\n",
      "loss: 1.144745  [38400/60000]\n",
      "loss: 1.090044  [44800/60000]\n",
      "loss: 1.140826  [51200/60000]\n",
      "loss: 1.087700  [57600/60000]\n",
      "Epoch 6\n",
      "-------------------------------\n",
      "loss: 1.170089  [    0/60000]\n",
      "loss: 1.186221  [ 6400/60000]\n",
      "loss: 1.024515  [12800/60000]\n",
      "loss: 1.162460  [19200/60000]\n",
      "loss: 1.054054  [25600/60000]\n",
      "loss: 1.082970  [32000/60000]\n",
      "loss: 1.144745  [38400/60000]\n",
      "loss: 1.090044  [44800/60000]\n",
      "loss: 1.140826  [51200/60000]\n",
      "loss: 1.087700  [57600/60000]\n",
      "Epoch 7\n",
      "-------------------------------\n",
      "loss: 1.170089  [    0/60000]\n",
      "loss: 1.186221  [ 6400/60000]\n",
      "loss: 1.024515  [12800/60000]\n",
      "loss: 1.162460  [19200/60000]\n",
      "loss: 1.054054  [25600/60000]\n",
      "loss: 1.082970  [32000/60000]\n",
      "loss: 1.144745  [38400/60000]\n",
      "loss: 1.090044  [44800/60000]\n",
      "loss: 1.140826  [51200/60000]\n",
      "loss: 1.087700  [57600/60000]\n",
      "Epoch 8\n",
      "-------------------------------\n",
      "loss: 1.170089  [    0/60000]\n",
      "loss: 1.186221  [ 6400/60000]\n",
      "loss: 1.024515  [12800/60000]\n",
      "loss: 1.162460  [19200/60000]\n",
      "loss: 1.054054  [25600/60000]\n",
      "loss: 1.082970  [32000/60000]\n",
      "loss: 1.144745  [38400/60000]\n",
      "loss: 1.090044  [44800/60000]\n",
      "loss: 1.140826  [51200/60000]\n",
      "loss: 1.087700  [57600/60000]\n",
      "Epoch 9\n",
      "-------------------------------\n",
      "loss: 1.170089  [    0/60000]\n",
      "loss: 1.186221  [ 6400/60000]\n",
      "loss: 1.024515  [12800/60000]\n",
      "loss: 1.162460  [19200/60000]\n",
      "loss: 1.054054  [25600/60000]\n",
      "loss: 1.082970  [32000/60000]\n",
      "loss: 1.144745  [38400/60000]\n",
      "loss: 1.090044  [44800/60000]\n",
      "loss: 1.140826  [51200/60000]\n",
      "loss: 1.087700  [57600/60000]\n",
      "Epoch 10\n",
      "-------------------------------\n",
      "loss: 1.170089  [    0/60000]\n",
      "loss: 1.186221  [ 6400/60000]\n",
      "loss: 1.024515  [12800/60000]\n",
      "loss: 1.162460  [19200/60000]\n",
      "loss: 1.054054  [25600/60000]\n",
      "loss: 1.082970  [32000/60000]\n",
      "loss: 1.144745  [38400/60000]\n",
      "loss: 1.090044  [44800/60000]\n",
      "loss: 1.140826  [51200/60000]\n",
      "loss: 1.087700  [57600/60000]\n",
      "Test Error: \n",
      " Accuracy: 64.5%, Avg loss: 1.103641 \n",
      "\n",
      "Done!\n"
     ]
    }
   ],
   "source": [
    "epochs = 10\n",
    "for t in range(epochs):\n",
    "    print(f\"Epoch {t+1}\\n-------------------------------\")\n",
    "    train(train_dataloader, model, loss_fn, optimizer)\n",
    "for t in range(1):\n",
    "    test(test_dataloader, model, loss_fn)\n",
    "print(\"Done!\")\n"
   ]
  },
  {
   "cell_type": "code",
   "execution_count": 12,
   "metadata": {},
   "outputs": [
    {
     "name": "stdout",
     "output_type": "stream",
     "text": [
      "Saved PyTorch Model State to model.pth\n"
     ]
    }
   ],
   "source": [
    "torch.save(model.state_dict(), \"model.pth\")\n",
    "print(\"Saved PyTorch Model State to model.pth\")\n"
   ]
  },
  {
   "cell_type": "code",
   "execution_count": 21,
   "metadata": {},
   "outputs": [
    {
     "data": {
      "text/plain": [
       "<All keys matched successfully>"
      ]
     },
     "execution_count": 21,
     "metadata": {},
     "output_type": "execute_result"
    }
   ],
   "source": [
    "model = NeuralNetwork()\n",
    "model.load_state_dict(torch.load(\"model.pth\"))\n"
   ]
  },
  {
   "cell_type": "code",
   "execution_count": 14,
   "metadata": {},
   "outputs": [
    {
     "name": "stdout",
     "output_type": "stream",
     "text": [
      "Predicted: \"Ankle boot\", Actual: \"Ankle boot\"\n"
     ]
    }
   ],
   "source": [
    "classes = [\n",
    "    \"T-shirt/top\",\n",
    "    \"Trouser\",\n",
    "    \"Pullover\",\n",
    "    \"Dress\",\n",
    "    \"Coat\",\n",
    "    \"Sandal\",\n",
    "    \"Shirt\",\n",
    "    \"Sneaker\",\n",
    "    \"Bag\",\n",
    "    \"Ankle boot\",\n",
    "]\n",
    "\n",
    "model.eval()\n",
    "x, y = test_data[0][0], test_data[0][1]\n",
    "with torch.no_grad():\n",
    "    pred = model(x)\n",
    "    predicted, actual = classes[pred[0].argmax(0)], classes[y]\n",
    "    print(f'Predicted: \"{predicted}\", Actual: \"{actual}\"')\n"
   ]
  },
  {
   "cell_type": "code",
   "execution_count": 15,
   "metadata": {},
   "outputs": [
    {
     "name": "stdout",
     "output_type": "stream",
     "text": [
      "First row: tensor([0.0497, 0.8410, 0.6423, 0.9328])\n",
      "First column: tensor([0.0497, 0.0610, 0.8109, 0.6977])\n",
      "Last column: tensor([0.9328, 0.0718, 0.1615, 0.3736])\n",
      "tensor([[0.0497, 0.0000, 0.6423, 0.9328],\n",
      "        [0.0610, 0.0000, 0.6985, 0.0718],\n",
      "        [0.8109, 0.0000, 0.8353, 0.1615],\n",
      "        [0.6977, 0.0000, 0.0934, 0.3736]])\n"
     ]
    }
   ],
   "source": [
    "tensor = torch.rand(4, 4)\n",
    "print(f\"First row: {tensor[0]}\")\n",
    "print(f\"First column: {tensor[:, 0]}\")\n",
    "print(f\"Last column: {tensor[..., -1]}\")\n",
    "tensor[:,1] = 0\n",
    "print(tensor)"
   ]
  },
  {
   "cell_type": "code",
   "execution_count": 3,
   "metadata": {},
   "outputs": [],
   "source": [
    "import pandas"
   ]
  },
  {
   "cell_type": "code",
   "execution_count": null,
   "metadata": {},
   "outputs": [],
   "source": []
  }
 ],
 "metadata": {
  "kernelspec": {
   "display_name": "Python 3",
   "language": "python",
   "name": "python3"
  },
  "language_info": {
   "codemirror_mode": {
    "name": "ipython",
    "version": 3
   },
   "file_extension": ".py",
   "mimetype": "text/x-python",
   "name": "python",
   "nbconvert_exporter": "python",
   "pygments_lexer": "ipython3",
   "version": "3.8.3"
  },
  "vscode": {
   "interpreter": {
    "hash": "9f041a1d57cc3632877935291d37125123fa68d1eacad05a87b178c4b5a94536"
   }
  }
 },
 "nbformat": 4,
 "nbformat_minor": 4
}
